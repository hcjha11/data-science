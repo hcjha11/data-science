{
  "nbformat": 4,
  "nbformat_minor": 0,
  "metadata": {
    "colab": {
      "name": "Numpy_Tutroial.ipynb",
      "provenance": [],
      "collapsed_sections": []
    },
    "kernelspec": {
      "name": "python3",
      "display_name": "Python 3"
    },
    "language_info": {
      "name": "python"
    }
  },
  "cells": [
    {
      "cell_type": "markdown",
      "source": [
        "**Numpy Tutroial**"
      ],
      "metadata": {
        "id": "lOYkbeZP-rPf"
      }
    },
    {
      "cell_type": "code",
      "source": [
        ""
      ],
      "metadata": {
        "id": "PGGfTE4nLE4b"
      },
      "execution_count": null,
      "outputs": []
    },
    {
      "cell_type": "code",
      "source": [
        "import numpy as np"
      ],
      "metadata": {
        "id": "KiMbRa_--ydJ"
      },
      "execution_count": 2,
      "outputs": []
    },
    {
      "cell_type": "code",
      "source": [
        "ar = np.array([1,23,4,5,6,7,8])"
      ],
      "metadata": {
        "id": "6dhE5S_V-5qf"
      },
      "execution_count": 3,
      "outputs": []
    },
    {
      "cell_type": "code",
      "source": [
        "print(ar)"
      ],
      "metadata": {
        "colab": {
          "base_uri": "https://localhost:8080/"
        },
        "id": "31lfhfcp-55z",
        "outputId": "bbfb87f6-ddaf-4d7b-a89d-f8bca7c916e7"
      },
      "execution_count": 5,
      "outputs": [
        {
          "output_type": "stream",
          "name": "stdout",
          "text": [
            "[ 1 23  4  5  6  7  8]\n"
          ]
        }
      ]
    },
    {
      "cell_type": "code",
      "source": [
        "ar[5]\n",
        "print(ar[5])"
      ],
      "metadata": {
        "colab": {
          "base_uri": "https://localhost:8080/"
        },
        "id": "6g4BpOMG_OyI",
        "outputId": "3cfcd920-50fc-46be-cb8a-67274bf41ce2"
      },
      "execution_count": 7,
      "outputs": [
        {
          "output_type": "stream",
          "name": "stdout",
          "text": [
            "7\n"
          ]
        }
      ]
    },
    {
      "cell_type": "code",
      "source": [
        "print(type(ar))"
      ],
      "metadata": {
        "colab": {
          "base_uri": "https://localhost:8080/"
        },
        "id": "mAnZ54l2_PDO",
        "outputId": "ac371b99-8e38-41c0-f0e6-f8888c06c513"
      },
      "execution_count": 8,
      "outputs": [
        {
          "output_type": "stream",
          "name": "stdout",
          "text": [
            "<class 'numpy.ndarray'>\n"
          ]
        }
      ]
    },
    {
      "cell_type": "code",
      "source": [
        "print(ar.dtype)\n",
        "print(ar)"
      ],
      "metadata": {
        "colab": {
          "base_uri": "https://localhost:8080/"
        },
        "id": "b4BJbd7-_evA",
        "outputId": "9e223924-a3b7-4963-f7dc-b007d8912383"
      },
      "execution_count": 10,
      "outputs": [
        {
          "output_type": "stream",
          "name": "stdout",
          "text": [
            "int64\n",
            "[ 1 23  4  5  6  7  8]\n"
          ]
        }
      ]
    },
    {
      "cell_type": "code",
      "source": [
        "ar =np.array([1.2,5,7,8,9],dtype='int64')\n",
        "print(ar)\n",
        "print(ar.dtype)"
      ],
      "metadata": {
        "colab": {
          "base_uri": "https://localhost:8080/"
        },
        "id": "Ao-jhbnE_eyn",
        "outputId": "29000e5a-79bc-4878-f4ef-dee15a1a7c35"
      },
      "execution_count": 12,
      "outputs": [
        {
          "output_type": "stream",
          "name": "stdout",
          "text": [
            "[1 5 7 8 9]\n",
            "int64\n"
          ]
        }
      ]
    },
    {
      "cell_type": "code",
      "source": [
        "print(ar.itemsize)"
      ],
      "metadata": {
        "colab": {
          "base_uri": "https://localhost:8080/"
        },
        "id": "D6MusAoq_e3S",
        "outputId": "171c8778-dc28-45a1-acc4-6c0f809fc78a"
      },
      "execution_count": 13,
      "outputs": [
        {
          "output_type": "stream",
          "name": "stdout",
          "text": [
            "8\n"
          ]
        }
      ]
    },
    {
      "cell_type": "markdown",
      "source": [
        "**Time**"
      ],
      "metadata": {
        "id": "qHzmPwC2APPh"
      }
    },
    {
      "cell_type": "code",
      "source": [
        "a =np.arange(100)"
      ],
      "metadata": {
        "id": "m78f9Hmd_e7w"
      },
      "execution_count": 14,
      "outputs": []
    },
    {
      "cell_type": "code",
      "source": [
        "a\n"
      ],
      "metadata": {
        "colab": {
          "base_uri": "https://localhost:8080/"
        },
        "id": "X2ZGBC4iAaIB",
        "outputId": "61f85dd0-e3ba-454e-d6d5-5dc40efd724f"
      },
      "execution_count": 15,
      "outputs": [
        {
          "output_type": "execute_result",
          "data": {
            "text/plain": [
              "array([ 0,  1,  2,  3,  4,  5,  6,  7,  8,  9, 10, 11, 12, 13, 14, 15, 16,\n",
              "       17, 18, 19, 20, 21, 22, 23, 24, 25, 26, 27, 28, 29, 30, 31, 32, 33,\n",
              "       34, 35, 36, 37, 38, 39, 40, 41, 42, 43, 44, 45, 46, 47, 48, 49, 50,\n",
              "       51, 52, 53, 54, 55, 56, 57, 58, 59, 60, 61, 62, 63, 64, 65, 66, 67,\n",
              "       68, 69, 70, 71, 72, 73, 74, 75, 76, 77, 78, 79, 80, 81, 82, 83, 84,\n",
              "       85, 86, 87, 88, 89, 90, 91, 92, 93, 94, 95, 96, 97, 98, 99])"
            ]
          },
          "metadata": {},
          "execution_count": 15
        }
      ]
    },
    {
      "cell_type": "code",
      "source": [
        "%timeit a.sum()"
      ],
      "metadata": {
        "colab": {
          "base_uri": "https://localhost:8080/"
        },
        "id": "0L-WqIL3Acap",
        "outputId": "20deb8e6-7ad6-4505-885e-98679d2314ba"
      },
      "execution_count": 16,
      "outputs": [
        {
          "output_type": "stream",
          "name": "stdout",
          "text": [
            "The slowest run took 49.51 times longer than the fastest. This could mean that an intermediate result is being cached.\n",
            "1000000 loops, best of 5: 1.46 µs per loop\n"
          ]
        }
      ]
    },
    {
      "cell_type": "code",
      "source": [
        "%timeit sum(a)"
      ],
      "metadata": {
        "colab": {
          "base_uri": "https://localhost:8080/"
        },
        "id": "06apW2gVAcdK",
        "outputId": "8daeb38f-810e-4b46-95f2-165659ed643b"
      },
      "execution_count": 17,
      "outputs": [
        {
          "output_type": "stream",
          "name": "stdout",
          "text": [
            "100000 loops, best of 5: 8.52 µs per loop\n"
          ]
        }
      ]
    },
    {
      "cell_type": "code",
      "source": [
        ""
      ],
      "metadata": {
        "id": "sf80zzxDAojg"
      },
      "execution_count": null,
      "outputs": []
    },
    {
      "cell_type": "markdown",
      "source": [
        "**Slicing**"
      ],
      "metadata": {
        "id": "XKrbWDhHAqtM"
      }
    },
    {
      "cell_type": "code",
      "source": [
        "ar[3:7]"
      ],
      "metadata": {
        "colab": {
          "base_uri": "https://localhost:8080/"
        },
        "id": "NwH30hokAomw",
        "outputId": "f18d5ddf-8769-4201-dec9-6c7e3fbfe83f"
      },
      "execution_count": 18,
      "outputs": [
        {
          "output_type": "execute_result",
          "data": {
            "text/plain": [
              "array([8, 9])"
            ]
          },
          "metadata": {},
          "execution_count": 18
        }
      ]
    },
    {
      "cell_type": "code",
      "source": [
        "b=ar[3:7]\n",
        "b\n"
      ],
      "metadata": {
        "colab": {
          "base_uri": "https://localhost:8080/"
        },
        "id": "CYaGOawKAop9",
        "outputId": "060d25a4-20ce-4bc9-dd70-131233fe5982"
      },
      "execution_count": 20,
      "outputs": [
        {
          "output_type": "execute_result",
          "data": {
            "text/plain": [
              "array([8, 9])"
            ]
          },
          "metadata": {},
          "execution_count": 20
        }
      ]
    },
    {
      "cell_type": "code",
      "source": [
        "b[1]=100\n",
        "print(b)\n",
        "print(ar)"
      ],
      "metadata": {
        "colab": {
          "base_uri": "https://localhost:8080/"
        },
        "id": "v0I8VLHFAcgz",
        "outputId": "ef9434d9-da11-4a47-c29d-87706b91fcc2"
      },
      "execution_count": 21,
      "outputs": [
        {
          "output_type": "stream",
          "name": "stdout",
          "text": [
            "[  8 100]\n",
            "[  1   5   7   8 100]\n"
          ]
        }
      ]
    },
    {
      "cell_type": "code",
      "source": [
        "cr =ar[2:7].copy()\n",
        "print(cr)\n",
        "print(ar)"
      ],
      "metadata": {
        "colab": {
          "base_uri": "https://localhost:8080/"
        },
        "id": "iGkkOOQ2BExA",
        "outputId": "0ecd82a2-52ce-4255-e974-ae8b957243ac"
      },
      "execution_count": 22,
      "outputs": [
        {
          "output_type": "stream",
          "name": "stdout",
          "text": [
            "[  7   8 100]\n",
            "[  1   5   7   8 100]\n"
          ]
        }
      ]
    },
    {
      "cell_type": "code",
      "source": [
        ""
      ],
      "metadata": {
        "id": "peifHGkKBE74"
      },
      "execution_count": null,
      "outputs": []
    },
    {
      "cell_type": "markdown",
      "source": [
        "**2D**"
      ],
      "metadata": {
        "id": "AaC9lScGCMjv"
      }
    },
    {
      "cell_type": "code",
      "source": [
        "ar2 = np.array([[1,23,4,5,6,7,8,9],\n",
        "                [123,4,5,6,7,8,8,7],\n",
        "                [1,2,34,5,6,7,8,9]])"
      ],
      "metadata": {
        "id": "3ocKn01cBE-r"
      },
      "execution_count": 30,
      "outputs": []
    },
    {
      "cell_type": "code",
      "source": [
        "print(ar2)"
      ],
      "metadata": {
        "colab": {
          "base_uri": "https://localhost:8080/"
        },
        "id": "WrHDibiUBFCz",
        "outputId": "0d03e156-c29f-41a0-ddde-956d1989698d"
      },
      "execution_count": 25,
      "outputs": [
        {
          "output_type": "stream",
          "name": "stdout",
          "text": [
            "[[  1  23   4   5   6   7   8   9]\n",
            " [123   4   5   6   7   8   8   7]]\n"
          ]
        }
      ]
    },
    {
      "cell_type": "code",
      "source": [
        "print(ar2.ndim)"
      ],
      "metadata": {
        "colab": {
          "base_uri": "https://localhost:8080/"
        },
        "id": "KrrTxUyDCqlW",
        "outputId": "e2db6dfe-0e59-4bfe-ff83-285e771646a6"
      },
      "execution_count": 26,
      "outputs": [
        {
          "output_type": "stream",
          "name": "stdout",
          "text": [
            "2\n"
          ]
        }
      ]
    },
    {
      "cell_type": "code",
      "source": [
        "print(ar2.shape)"
      ],
      "metadata": {
        "colab": {
          "base_uri": "https://localhost:8080/"
        },
        "id": "gM6lgWqBCqoA",
        "outputId": "0cd5c4ec-ece0-45dd-8b19-92bbac879c09"
      },
      "execution_count": 27,
      "outputs": [
        {
          "output_type": "stream",
          "name": "stdout",
          "text": [
            "(2, 8)\n"
          ]
        }
      ]
    },
    {
      "cell_type": "code",
      "source": [
        "print(ar2[1:3,0:3])\n",
        "ar2"
      ],
      "metadata": {
        "colab": {
          "base_uri": "https://localhost:8080/"
        },
        "id": "xYHz8c4DCqrz",
        "outputId": "98c4a841-4ea0-4a17-c50c-1b56b4a8b49a"
      },
      "execution_count": 32,
      "outputs": [
        {
          "output_type": "stream",
          "name": "stdout",
          "text": [
            "[[123   4   5]\n",
            " [  1   2  34]]\n"
          ]
        },
        {
          "output_type": "execute_result",
          "data": {
            "text/plain": [
              "array([[  1,  23,   4,   5,   6,   7,   8,   9],\n",
              "       [123,   4,   5,   6,   7,   8,   8,   7],\n",
              "       [  1,   2,  34,   5,   6,   7,   8,   9]])"
            ]
          },
          "metadata": {},
          "execution_count": 32
        }
      ]
    },
    {
      "cell_type": "markdown",
      "source": [
        "**spilt** **concatenate**"
      ],
      "metadata": {
        "id": "kMWtLKBVEW7s"
      }
    },
    {
      "cell_type": "code",
      "source": [
        "a = np.array([1,23,4,5,6,7])\n",
        "b =np.array([7,8,9,0.45,6,7])\n",
        "\n",
        "c =np.concatenate([a,b])\n",
        "print(c)"
      ],
      "metadata": {
        "colab": {
          "base_uri": "https://localhost:8080/"
        },
        "id": "WbOgInFjDD1f",
        "outputId": "d59c6157-2ec7-4383-97bc-24f4920fd046"
      },
      "execution_count": 34,
      "outputs": [
        {
          "output_type": "stream",
          "name": "stdout",
          "text": [
            "[ 1.   23.    4.    5.    6.    7.    7.    8.    9.    0.45  6.    7.  ]\n"
          ]
        }
      ]
    },
    {
      "cell_type": "code",
      "source": [
        "a =np.arange(20)\n",
        "a"
      ],
      "metadata": {
        "colab": {
          "base_uri": "https://localhost:8080/"
        },
        "id": "tw_sNEDlEJBS",
        "outputId": "b702d142-c524-4ea7-a366-f098d7311a36"
      },
      "execution_count": 41,
      "outputs": [
        {
          "output_type": "execute_result",
          "data": {
            "text/plain": [
              "array([ 0,  1,  2,  3,  4,  5,  6,  7,  8,  9, 10, 11, 12, 13, 14, 15, 16,\n",
              "       17, 18, 19])"
            ]
          },
          "metadata": {},
          "execution_count": 41
        }
      ]
    },
    {
      "cell_type": "code",
      "source": [
        "a1,a2,a3,a4 =np.split(a,[4,13,18])\n",
        "print(a1)\n",
        "print(a2)\n",
        "print(a3)\n",
        "print(a4)"
      ],
      "metadata": {
        "colab": {
          "base_uri": "https://localhost:8080/"
        },
        "id": "vpbZHD4tEJDs",
        "outputId": "7fa36811-eb87-4364-c0a4-ccafdb88ae30"
      },
      "execution_count": 43,
      "outputs": [
        {
          "output_type": "stream",
          "name": "stdout",
          "text": [
            "[0 1 2 3]\n",
            "[ 4  5  6  7  8  9 10 11 12]\n",
            "[13 14 15 16 17]\n",
            "[18 19]\n"
          ]
        }
      ]
    },
    {
      "cell_type": "code",
      "source": [
        "a =np.ones(10)*5\n",
        "a"
      ],
      "metadata": {
        "colab": {
          "base_uri": "https://localhost:8080/"
        },
        "id": "O8NZnbHlEJG7",
        "outputId": "2902bae0-dba8-49f1-c6d3-2a3739ad09df"
      },
      "execution_count": 46,
      "outputs": [
        {
          "output_type": "execute_result",
          "data": {
            "text/plain": [
              "array([5., 5., 5., 5., 5., 5., 5., 5., 5., 5.])"
            ]
          },
          "metadata": {},
          "execution_count": 46
        }
      ]
    },
    {
      "cell_type": "code",
      "source": [
        "c =np.arange(1,100,2)\n",
        "c"
      ],
      "metadata": {
        "colab": {
          "base_uri": "https://localhost:8080/"
        },
        "id": "PcFnexCiEJWo",
        "outputId": "b2ba8167-8882-4763-ec78-9b57404fee81"
      },
      "execution_count": 49,
      "outputs": [
        {
          "output_type": "execute_result",
          "data": {
            "text/plain": [
              "array([ 1,  3,  5,  7,  9, 11, 13, 15, 17, 19, 21, 23, 25, 27, 29, 31, 33,\n",
              "       35, 37, 39, 41, 43, 45, 47, 49, 51, 53, 55, 57, 59, 61, 63, 65, 67,\n",
              "       69, 71, 73, 75, 77, 79, 81, 83, 85, 87, 89, 91, 93, 95, 97, 99])"
            ]
          },
          "metadata": {},
          "execution_count": 49
        }
      ]
    },
    {
      "cell_type": "code",
      "source": [
        ""
      ],
      "metadata": {
        "id": "KQG4EvsbEJZX"
      },
      "execution_count": null,
      "outputs": []
    },
    {
      "cell_type": "markdown",
      "source": [
        "**Random** **Function**"
      ],
      "metadata": {
        "id": "6Zs-nIfOHRZD"
      }
    },
    {
      "cell_type": "code",
      "source": [
        "np.random.permutation(c)"
      ],
      "metadata": {
        "colab": {
          "base_uri": "https://localhost:8080/"
        },
        "id": "reELetUTHXT_",
        "outputId": "2283f5b4-6f72-47e0-d2f1-cc813a51d996"
      },
      "execution_count": 50,
      "outputs": [
        {
          "output_type": "execute_result",
          "data": {
            "text/plain": [
              "array([31, 55, 53, 21, 47, 23, 67, 79, 61, 71,  5, 27, 65, 25, 89, 39, 29,\n",
              "       45,  7,  3, 15, 63, 93,  9, 73, 57, 33, 17,  1, 59, 81, 83, 11, 85,\n",
              "       77, 87, 19, 43, 49, 35, 99, 91, 97, 69, 95, 75, 41, 13, 51, 37])"
            ]
          },
          "metadata": {},
          "execution_count": 50
        }
      ]
    },
    {
      "cell_type": "code",
      "source": [
        "np.random.randn(10)"
      ],
      "metadata": {
        "colab": {
          "base_uri": "https://localhost:8080/"
        },
        "id": "zQGU0YI9EJca",
        "outputId": "ce70481f-d3a8-4231-bf50-578c245edf23"
      },
      "execution_count": 51,
      "outputs": [
        {
          "output_type": "execute_result",
          "data": {
            "text/plain": [
              "array([ 0.05712495, -0.34353966,  1.58414008,  1.25242751, -0.51717029,\n",
              "       -0.264545  ,  0.72233676,  0.06045704, -0.53046635, -0.62019306])"
            ]
          },
          "metadata": {},
          "execution_count": 51
        }
      ]
    },
    {
      "cell_type": "code",
      "source": [
        "import matplotlib.pyplot as plt\n",
        "plt.hist(c)"
      ],
      "metadata": {
        "colab": {
          "base_uri": "https://localhost:8080/",
          "height": 317
        },
        "id": "5gIom3E3EJfb",
        "outputId": "6dcb219b-6238-482d-a96b-856f9ee03621"
      },
      "execution_count": 52,
      "outputs": [
        {
          "output_type": "execute_result",
          "data": {
            "text/plain": [
              "(array([5., 5., 5., 5., 5., 5., 5., 5., 5., 5.]),\n",
              " array([ 1. , 10.8, 20.6, 30.4, 40.2, 50. , 59.8, 69.6, 79.4, 89.2, 99. ]),\n",
              " <a list of 10 Patch objects>)"
            ]
          },
          "metadata": {},
          "execution_count": 52
        },
        {
          "output_type": "display_data",
          "data": {
            "text/plain": [
              "<Figure size 432x288 with 1 Axes>"
            ],
            "image/png": "[encoded data removed]"
          },
          "metadata": {
            "needs_background": "light"
          }
        }
      ]
    },
    {
      "cell_type": "code",
      "source": [
        "ar =np.linspace(5,100,50)\n",
        "ar"
      ],
      "metadata": {
        "colab": {
          "base_uri": "https://localhost:8080/"
        },
        "id": "AawRrflUEJiA",
        "outputId": "cad3bd1d-ef5f-4493-e0e3-5928a2bd9fbf"
      },
      "execution_count": 57,
      "outputs": [
        {
          "output_type": "execute_result",
          "data": {
            "text/plain": [
              "array([  5.        ,   6.93877551,   8.87755102,  10.81632653,\n",
              "        12.75510204,  14.69387755,  16.63265306,  18.57142857,\n",
              "        20.51020408,  22.44897959,  24.3877551 ,  26.32653061,\n",
              "        28.26530612,  30.20408163,  32.14285714,  34.08163265,\n",
              "        36.02040816,  37.95918367,  39.89795918,  41.83673469,\n",
              "        43.7755102 ,  45.71428571,  47.65306122,  49.59183673,\n",
              "        51.53061224,  53.46938776,  55.40816327,  57.34693878,\n",
              "        59.28571429,  61.2244898 ,  63.16326531,  65.10204082,\n",
              "        67.04081633,  68.97959184,  70.91836735,  72.85714286,\n",
              "        74.79591837,  76.73469388,  78.67346939,  80.6122449 ,\n",
              "        82.55102041,  84.48979592,  86.42857143,  88.36734694,\n",
              "        90.30612245,  92.24489796,  94.18367347,  96.12244898,\n",
              "        98.06122449, 100.        ])"
            ]
          },
          "metadata": {},
          "execution_count": 57
        }
      ]
    },
    {
      "cell_type": "code",
      "source": [
        "a2 =np.arange(50)"
      ],
      "metadata": {
        "id": "UmkxChMEDD5T"
      },
      "execution_count": 58,
      "outputs": []
    },
    {
      "cell_type": "code",
      "source": [
        "a =a2.reshape(2,25)\n",
        "a"
      ],
      "metadata": {
        "colab": {
          "base_uri": "https://localhost:8080/"
        },
        "id": "lcXqL6bSImUX",
        "outputId": "329d12f4-101e-4f39-a327-dbd7cbe47aec"
      },
      "execution_count": 62,
      "outputs": [
        {
          "output_type": "execute_result",
          "data": {
            "text/plain": [
              "array([[ 0,  1,  2,  3,  4,  5,  6,  7,  8,  9, 10, 11, 12, 13, 14, 15,\n",
              "        16, 17, 18, 19, 20, 21, 22, 23, 24],\n",
              "       [25, 26, 27, 28, 29, 30, 31, 32, 33, 34, 35, 36, 37, 38, 39, 40,\n",
              "        41, 42, 43, 44, 45, 46, 47, 48, 49]])"
            ]
          },
          "metadata": {},
          "execution_count": 62
        }
      ]
    },
    {
      "cell_type": "code",
      "source": [
        "np.where([True,False,False,True,True],1,0)"
      ],
      "metadata": {
        "colab": {
          "base_uri": "https://localhost:8080/"
        },
        "id": "q2CbRp2-ImZE",
        "outputId": "e2e00167-b9ae-47e2-dfb1-b395071c5edc"
      },
      "execution_count": 65,
      "outputs": [
        {
          "output_type": "execute_result",
          "data": {
            "text/plain": [
              "array([1, 0, 0, 1, 1])"
            ]
          },
          "metadata": {},
          "execution_count": 65
        }
      ]
    },
    {
      "cell_type": "markdown",
      "source": [
        "**Operatoer**"
      ],
      "metadata": {
        "id": "ThjCJgwKJqDv"
      }
    },
    {
      "cell_type": "code",
      "source": [
        "a =np.arange(20)\n",
        "b =np.arange(20)\n",
        "print(a)\n",
        "b"
      ],
      "metadata": {
        "colab": {
          "base_uri": "https://localhost:8080/"
        },
        "id": "uPSMvDnVJo1h",
        "outputId": "eee96a01-2939-4535-da8d-e51ef455b3ad"
      },
      "execution_count": 71,
      "outputs": [
        {
          "output_type": "stream",
          "name": "stdout",
          "text": [
            "[ 0  1  2  3  4  5  6  7  8  9 10 11 12 13 14 15 16 17 18 19]\n"
          ]
        },
        {
          "output_type": "execute_result",
          "data": {
            "text/plain": [
              "array([ 0,  1,  2,  3,  4,  5,  6,  7,  8,  9, 10, 11, 12, 13, 14, 15, 16,\n",
              "       17, 18, 19])"
            ]
          },
          "metadata": {},
          "execution_count": 71
        }
      ]
    },
    {
      "cell_type": "code",
      "source": [
        "b=[a%2!=0]\n",
        "a[b]"
      ],
      "metadata": {
        "colab": {
          "base_uri": "https://localhost:8080/"
        },
        "id": "Fz8OStTzImds",
        "outputId": "4069e150-82c0-4ac7-aee4-7fc8fce6fca3"
      },
      "execution_count": 75,
      "outputs": [
        {
          "output_type": "stream",
          "name": "stderr",
          "text": [
            "/usr/local/lib/python3.7/dist-packages/ipykernel_launcher.py:2: FutureWarning: Using a non-tuple sequence for multidimensional indexing is deprecated; use `arr[tuple(seq)]` instead of `arr[seq]`. In the future this will be interpreted as an array index, `arr[np.array(seq)]`, which will result either in an error or a different result.\n",
            "  \n"
          ]
        },
        {
          "output_type": "execute_result",
          "data": {
            "text/plain": [
              "array([ 1,  3,  5,  7,  9, 11, 13, 15, 17, 19])"
            ]
          },
          "metadata": {},
          "execution_count": 75
        }
      ]
    },
    {
      "cell_type": "markdown",
      "source": [
        "**Features**"
      ],
      "metadata": {
        "id": "7esKHvAxKcJD"
      }
    },
    {
      "cell_type": "code",
      "source": [
        "print(a.min())\n",
        "print(a.max())\n",
        "print(a.sort())\n",
        "print(a.std())\n",
        "print(a.sum())"
      ],
      "metadata": {
        "colab": {
          "base_uri": "https://localhost:8080/"
        },
        "id": "x7eVx6ITDD8e",
        "outputId": "66afad37-f590-4a8c-c4e8-a74b8abb3cc4"
      },
      "execution_count": 78,
      "outputs": [
        {
          "output_type": "stream",
          "name": "stdout",
          "text": [
            "0\n",
            "19\n",
            "None\n",
            "5.766281297335398\n",
            "190\n"
          ]
        }
      ]
    },
    {
      "cell_type": "code",
      "source": [
        ""
      ],
      "metadata": {
        "id": "7iNRhWZ0DD_p"
      },
      "execution_count": null,
      "outputs": []
    }
  ]
}